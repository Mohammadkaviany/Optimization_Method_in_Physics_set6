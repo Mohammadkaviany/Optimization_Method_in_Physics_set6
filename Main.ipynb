{
  "nbformat": 4,
  "nbformat_minor": 0,
  "metadata": {
    "colab": {
      "name": "Untitled4.ipynb",
      "provenance": [],
      "collapsed_sections": [],
      "mount_file_id": "1_fzr7f3ZuGvO7BI0owTZiTSo5oBR2x8P",
      "authorship_tag": "ABX9TyOPWzmUA9ZfV4oTYLN/aGjS"
    },
    "kernelspec": {
      "name": "python3",
      "display_name": "Python 3"
    },
    "language_info": {
      "name": "python"
    }
  },
  "cells": [
    {
      "cell_type": "code",
      "execution_count": 35,
      "metadata": {
        "id": "yXvgGCtoWTzg"
      },
      "outputs": [],
      "source": [
        "import os\n",
        "import numpy as np\n",
        "import matplotlib.pyplot as plt"
      ]
    },
    {
      "cell_type": "code",
      "source": [
        "df = np.loadtxt(\" Please Enter the fitinput.txt path Here ! \")"
      ],
      "metadata": {
        "id": "dWEsHAxnUgZz"
      },
      "execution_count": 36,
      "outputs": []
    },
    {
      "cell_type": "code",
      "source": [
        "def yth(x, a, H):\n",
        "  return a * x ** H"
      ],
      "metadata": {
        "id": "s5dFytxiVDka"
      },
      "execution_count": 37,
      "outputs": []
    },
    {
      "cell_type": "code",
      "source": [
        "x = df[:, 0]\n",
        "y = df[:, 1]\n"
      ],
      "metadata": {
        "id": "HxOJAmoSUorl"
      },
      "execution_count": 53,
      "outputs": []
    },
    {
      "cell_type": "code",
      "source": [
        "a = np.random.random()\n",
        "H = np.random.random()\n",
        "plt.plot(x, y, \"X\", Label= \"df\")\n",
        "plt.plot(x, yth(x, a, H), Label=\"random\")\n",
        "plt.legend()\n",
        "plt.show()"
      ],
      "metadata": {
        "colab": {
          "base_uri": "https://localhost:8080/",
          "height": 265
        },
        "id": "YzpxZ9L7Vc06",
        "outputId": "7588dc51-bfb7-4f62-8b25-b50658f78a91"
      },
      "execution_count": 55,
      "outputs": [
        {
          "output_type": "display_data",
          "data": {
            "image/png": "[encoded data removed]",
            "text/plain": [
              "<Figure size 432x288 with 1 Axes>"
            ]
          },
          "metadata": {
            "needs_background": "light"
          }
        }
      ]
    },
    {
      "cell_type": "code",
      "source": [
        "a_old = np.random.random()\n",
        "H_old = np.random.random()\n",
        "X2_old = 0\n",
        "\n",
        "for i in range(len(x)):\n",
        "  X2_old += (y[i] - yth(x[i], a_old, H_old))**2"
      ],
      "metadata": {
        "id": "cNmvJP5daUnM"
      },
      "execution_count": 46,
      "outputs": []
    },
    {
      "cell_type": "code",
      "source": [
        "n = 1000\n",
        "\n",
        "for i in range(n):\n",
        "  a_new = a_old + np.random.normal(scale=1)\n",
        "  H_new = H_old + np.random.normal(scale=1)\n",
        "  X2_new = 0\n",
        "  for i in range(len(x)):\n",
        "    X2_new = (y[i] - yth(x[i], a_new, H_new))**2\n",
        "  \n",
        "  dX2 = X2_new - X2_old\n",
        "  AR = min([1, np.exp(- dX2 / 2)])\n",
        "\n",
        "  r = np.random.random()\n",
        "  if r <= AR:\n",
        "        a_old = a_new\n",
        "        H_old = H_new\n",
        "        X2_old = X2_new"
      ],
      "metadata": {
        "id": "WgqA3WV2a1a8",
        "colab": {
          "base_uri": "https://localhost:8080/"
        },
        "outputId": "cbacd40f-92c5-4a40-85cf-4394de8359f9"
      },
      "execution_count": 47,
      "outputs": [
        {
          "output_type": "stream",
          "name": "stderr",
          "text": [
            "/usr/local/lib/python3.7/dist-packages/ipykernel_launcher.py:11: RuntimeWarning: overflow encountered in exp\n",
            "  # This is added back by InteractiveShellApp.init_path()\n"
          ]
        }
      ]
    },
    {
      "cell_type": "code",
      "source": [
        "plt.plot(x, y, \"X\", Label= \"df\")\n",
        "plt.plot(x, yth(x, a_old, H_old), \"-\" , Label=\"Fitten Graph\")\n",
        "plt.title(f'a = {a_old:0.4}, H = {H_old:0.4}')\n",
        "plt.legend()\n",
        "plt.show()"
      ],
      "metadata": {
        "id": "cfbitFxocRek",
        "colab": {
          "base_uri": "https://localhost:8080/",
          "height": 281
        },
        "outputId": "ffccd251-3620-4cb0-95b1-62f5acfbb82e"
      },
      "execution_count": 48,
      "outputs": [
        {
          "output_type": "display_data",
          "data": {
            "image/png": "[encoded data removed]",
            "text/plain": [
              "<Figure size 432x288 with 1 Axes>"
            ]
          },
          "metadata": {
            "needs_background": "light"
          }
        }
      ]
    },
    {
      "cell_type": "code",
      "source": [
        "def mcmc(df, n, return_path=True):\n",
        "    \n",
        "    x = df[:,0] ; y = df[:,1]\n",
        "    a_path = [] ; H_path = []\n",
        "\n",
        "    a_old = np.random.normal() \n",
        "    H_old = np.random.normal() \n",
        "    X2_old = 0\n",
        "    for i in range(len(x)):\n",
        "        X2_old += (y[i] - yth(x[i], a_old, H_old))**2\n",
        "\n",
        "    for i in range(n):\n",
        "\n",
        "        a_new = a_old + np.random.normal(scale=.1)\n",
        "        H_new = H_old + np.random.normal(scale=.1)\n",
        "        X2_new = 0\n",
        "        for i in range(len(x)):\n",
        "            X2_new += (y[i] - yth(x[i], a_new, H_new))**2\n",
        "        \n",
        "        d2 = X2_new - X2_old\n",
        "        AR = min([1, np.exp(- d2/2)])\n",
        "        r = np.random.random()\n",
        "        if r <= AR:\n",
        "\n",
        "            a_old = a_new\n",
        "            H_old = H_new\n",
        "\n",
        "            a_path.append(a_new)\n",
        "            H_path.append(H_new)\n",
        "\n",
        "            X2_old = X2_new\n",
        "    \n",
        "    if return_path==True:\n",
        "        return a_path, H_path\n",
        "    else:\n",
        "        return a_old, H_old \n",
        "a_best , H_best = mcmc(df, 10000, False)"
      ],
      "metadata": {
        "id": "zjJdSH3ZcyYl",
        "colab": {
          "base_uri": "https://localhost:8080/"
        },
        "outputId": "f18a8c13-abd1-454b-f7f3-578618c11334"
      },
      "execution_count": 49,
      "outputs": [
        {
          "output_type": "stream",
          "name": "stderr",
          "text": [
            "/usr/local/lib/python3.7/dist-packages/ipykernel_launcher.py:21: RuntimeWarning: overflow encountered in exp\n"
          ]
        }
      ]
    },
    {
      "cell_type": "code",
      "source": [
        "n = 5\n",
        "os.mkdir('path')\n",
        "\n",
        "for i in range(n):\n",
        "    path = mcmc(df, 15000, True)\n",
        "    np.savetxt(f'path/{i}.txt', path)\n",
        "\n",
        "plt.grid(True)\n",
        "plt.title(f'Best a and H for {n} ensembles')\n",
        "\n",
        "for i in range(n):\n",
        "    path = np.loadtxt(f'path/{i}.txt')\n",
        "    a_path, H_path = path\n",
        "    plt.plot(a_path[-1], H_path[-1], 'go', alpha=.5)\n",
        "\n",
        "a_best_list = []\n",
        "H_best_list = []\n",
        "for i in range(n):\n",
        "    path = np.loadtxt(f'path/{i}.txt')\n",
        "    a_path, H_path = path\n",
        "    if len(a_path)<8000:\n",
        "        a_best_list.append(a_path[-1])\n",
        "        H_best_list.append(H_path[-1])\n",
        "\n",
        "fig,ax=plt.subplots(1,2,figsize=(10,5))\n",
        "ax[0].hist(a_best_list, bins=20)\n",
        "ax[1].hist(H_best_list, bins=20)"
      ],
      "metadata": {
        "colab": {
          "base_uri": "https://localhost:8080/",
          "height": 740
        },
        "id": "56iptCDIeGA1",
        "outputId": "a94ee27a-6959-44b2-98fc-83cb9dd61f5a"
      },
      "execution_count": 51,
      "outputs": [
        {
          "output_type": "stream",
          "name": "stderr",
          "text": [
            "/usr/local/lib/python3.7/dist-packages/ipykernel_launcher.py:21: RuntimeWarning: overflow encountered in exp\n"
          ]
        },
        {
          "output_type": "execute_result",
          "data": {
            "text/plain": [
              "(array([1., 0., 0., 0., 1., 0., 0., 1., 0., 0., 0., 0., 0., 0., 0., 0., 0.,\n",
              "        0., 0., 2.]),\n",
              " array([0.7707847 , 0.77106924, 0.77135378, 0.77163832, 0.77192286,\n",
              "        0.7722074 , 0.77249194, 0.77277648, 0.77306101, 0.77334555,\n",
              "        0.77363009, 0.77391463, 0.77419917, 0.77448371, 0.77476825,\n",
              "        0.77505279, 0.77533733, 0.77562187, 0.77590641, 0.77619095,\n",
              "        0.77647549]),\n",
              " <a list of 20 Patch objects>)"
            ]
          },
          "metadata": {},
          "execution_count": 51
        },
        {
          "output_type": "display_data",
          "data": {
            "image/png": "[encoded data removed]",
            "text/plain": [
              "<Figure size 432x288 with 1 Axes>"
            ]
          },
          "metadata": {
            "needs_background": "light"
          }
        },
        {
          "output_type": "display_data",
          "data": {
            "image/png": "[encoded data removed]",
            "text/plain": [
              "<Figure size 720x360 with 2 Axes>"
            ]
          },
          "metadata": {
            "needs_background": "light"
          }
        }
      ]
    }
  ]
}