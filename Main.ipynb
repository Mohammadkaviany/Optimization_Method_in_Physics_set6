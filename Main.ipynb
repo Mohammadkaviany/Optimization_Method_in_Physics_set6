{
  "nbformat": 4,
  "nbformat_minor": 0,
  "metadata": {
    "colab": {
      "name": "Untitled4.ipynb",
      "provenance": [],
      "collapsed_sections": [],
      "mount_file_id": "1_fzr7f3ZuGvO7BI0owTZiTSo5oBR2x8P",
      "authorship_tag": "ABX9TyPQbYxcvzX/6451pxnN4aEh"
    },
    "kernelspec": {
      "name": "python3",
      "display_name": "Python 3"
    },
    "language_info": {
      "name": "python"
    }
  },
  "cells": [
    {
      "cell_type": "code",
      "execution_count": 1,
      "metadata": {
        "id": "yXvgGCtoWTzg"
      },
      "outputs": [],
      "source": [
        "import numpy as np\n",
        "import matplotlib.pyplot as plt"
      ]
    },
    {
      "cell_type": "code",
      "source": [
        "df = np.loadtxt(\"/content/drive/MyDrive/Yashar`s Code/fitinput.txt\")"
      ],
      "metadata": {
        "id": "dWEsHAxnUgZz"
      },
      "execution_count": 22,
      "outputs": []
    },
    {
      "cell_type": "code",
      "source": [
        "def yth(x, a, H):\n",
        "  return a * x ** H"
      ],
      "metadata": {
        "id": "s5dFytxiVDka"
      },
      "execution_count": 10,
      "outputs": []
    },
    {
      "cell_type": "code",
      "source": [
        "x = df[:, 0]\n",
        "y = df[:, 1]\n",
        "a = np.random.random()\n",
        "H = np.random.random()"
      ],
      "metadata": {
        "id": "HxOJAmoSUorl"
      },
      "execution_count": 6,
      "outputs": []
    },
    {
      "cell_type": "code",
      "source": [
        "plt.plot(x, y, \"X\", Label= \"df\")\n",
        "plt.plot(x, yth(x, a, H), Label=\"random\")\n",
        "plt.legend()\n",
        "plt.show()"
      ],
      "metadata": {
        "colab": {
          "base_uri": "https://localhost:8080/",
          "height": 265
        },
        "id": "YzpxZ9L7Vc06",
        "outputId": "2e931f4a-b53a-4a32-8009-d059c031d10e"
      },
      "execution_count": 11,
      "outputs": [
        {
          "output_type": "display_data",
          "data": {
            "image/png": "[encoded data removed]",
            "text/plain": [
              "<Figure size 432x288 with 1 Axes>"
            ]
          },
          "metadata": {
            "needs_background": "light"
          }
        }
      ]
    },
    {
      "cell_type": "code",
      "source": [
        "a_old = np.random.random()\n",
        "H_old = np.random.random()\n",
        "X2_old = 0\n",
        "\n",
        "for i in range(len(x)):\n",
        "  X2_old += (y[i] - yth(x[i], a_old, H_old))**2"
      ],
      "metadata": {
        "id": "cNmvJP5daUnM"
      },
      "execution_count": 14,
      "outputs": []
    },
    {
      "cell_type": "code",
      "source": [
        "n = 1000\n",
        "\n",
        "for i in range(n):\n",
        "  a_new = a_old + np.random.normal(scale=1)\n",
        "  H_new = H_old + np.random.normal(scale=1)\n",
        "  X2_new = 0\n",
        "  for i in range(len(x)):\n",
        "    X2_new = (y[i] - yth(x[i], a_new, H_new))**2\n",
        "  \n",
        "  dX2 = X2_new - X2_old\n",
        "  AR = min([1, np.exp(- dX2 / 2)])\n",
        "\n",
        "  r = np.random.random()\n",
        "  if r <= AR:\n",
        "        a_old = a_new\n",
        "        H_old = H_new\n",
        "        X2_old = X2_new"
      ],
      "metadata": {
        "id": "WgqA3WV2a1a8"
      },
      "execution_count": 17,
      "outputs": []
    },
    {
      "cell_type": "code",
      "source": [
        "plt.plot(x, y, \"X\", Label= \"df\")\n",
        "plt.plot(x, yth(x, a_old, H_old), \"-\" , Label=\"Fitten Graph\")\n",
        "plt.title(f'a = {a_old:0.4}, H = {H_old:0.4}')\n",
        "plt.legend()\n",
        "plt.show()"
      ],
      "metadata": {
        "id": "cfbitFxocRek"
      },
      "execution_count": null,
      "outputs": []
    },
    {
      "cell_type": "code",
      "source": [
        "def mcmc(df, n, return_path=True):\n",
        "    \n",
        "    x = df[:,0] ; y = df[:,1]\n",
        "    a_path = [] ; H_path = []\n",
        "\n",
        "    a_old = np.random.normal() \n",
        "    H_old = np.random.normal() \n",
        "    X2_old = 0\n",
        "    for i in range(len(x)):\n",
        "        X2_old += (y[i] - yth(x[i], a_old, H_old))**2\n",
        "\n",
        "    for i in range(n):\n",
        "\n",
        "        a_new = a_old + np.random.normal(scale=.1)\n",
        "        H_new = H_old + np.random.normal(scale=.1)\n",
        "        X2_new = 0\n",
        "        for i in range(len(x)):\n",
        "            X2_new += (y[i] - yth(x[i], a_new, H_new))**2\n",
        "        \n",
        "        d2 = X2_new - X2_old\n",
        "        AR = min([1, np.exp(- d2/2)])\n",
        "        r = np.random.random()\n",
        "        if r <= AR:\n",
        "\n",
        "            a_old = a_new\n",
        "            H_old = H_new\n",
        "\n",
        "            a_path.append(a_new)\n",
        "            H_path.append(H_new)\n",
        "\n",
        "            X2_old = X2_new\n",
        "    \n",
        "    if return_path==True:\n",
        "        return a_path, H_path\n",
        "    else:\n",
        "        return a_old, H_old \n"
      ],
      "metadata": {
        "id": "zjJdSH3ZcyYl"
      },
      "execution_count": 20,
      "outputs": []
    },
    {
      "cell_type": "code",
      "source": [
        "import os\n",
        "\n",
        "n_ensebles = 10 # number of ensembles\n",
        "os.mkdir('path')\n",
        "\n",
        "for i in range(n_ensebles):\n",
        "    path = mcmc(df, 10000, True)\n",
        "    np.savetxt(f'path/{i}.txt', path)\n",
        "\n",
        "plt.grid(True)\n",
        "plt.title(f'Best a and H for {n_ensebles} ensembles')\n",
        "\n",
        "for i in range(n_ensebles):\n",
        "    path = np.loadtxt(f'path/{i}.txt')\n",
        "    a_path, H_path = path\n",
        "    plt.plot(a_path[-1], H_path[-1], 'ro', alpha=.5)\n",
        "\n",
        "a_best_list = []\n",
        "H_best_list = []\n",
        "for i in range(n_ensebles):\n",
        "    path = np.loadtxt(f'path/{i}.txt')\n",
        "    a_path, H_path = path\n",
        "    if len(a_path)<8000:\n",
        "        a_best_list.append(a_path[-1])\n",
        "        H_best_list.append(H_path[-1])\n",
        "\n",
        "fig,ax=plt.subplots(1,2,figsize=(10,5))\n",
        "ax[0].hist(a_best_list, bins=20)\n",
        "ax[1].hist(H_best_list, bins=20)"
      ],
      "metadata": {
        "colab": {
          "base_uri": "https://localhost:8080/",
          "height": 740
        },
        "id": "56iptCDIeGA1",
        "outputId": "7533ad1e-27d3-46ae-dec8-bee28c1c2717"
      },
      "execution_count": 21,
      "outputs": [
        {
          "output_type": "stream",
          "name": "stderr",
          "text": [
            "/usr/local/lib/python3.7/dist-packages/ipykernel_launcher.py:21: RuntimeWarning: overflow encountered in exp\n"
          ]
        },
        {
          "output_type": "execute_result",
          "data": {
            "text/plain": [
              "(array([2., 0., 0., 0., 0., 0., 1., 2., 0., 0., 1., 0., 0., 1., 0., 0., 0.,\n",
              "        0., 0., 1.]),\n",
              " array([0.77017026, 0.77046394, 0.77075762, 0.77105129, 0.77134497,\n",
              "        0.77163865, 0.77193233, 0.77222601, 0.77251969, 0.77281337,\n",
              "        0.77310705, 0.77340073, 0.77369441, 0.77398809, 0.77428177,\n",
              "        0.77457545, 0.77486913, 0.77516281, 0.77545649, 0.77575017,\n",
              "        0.77604385]),\n",
              " <a list of 20 Patch objects>)"
            ]
          },
          "metadata": {},
          "execution_count": 21
        },
        {
          "output_type": "display_data",
          "data": {
            "image/png": "[encoded data removed]",
            "text/plain": [
              "<Figure size 432x288 with 1 Axes>"
            ]
          },
          "metadata": {
            "needs_background": "light"
          }
        },
        {
          "output_type": "display_data",
          "data": {
            "image/png": "[encoded data removed]",
            "text/plain": [
              "<Figure size 720x360 with 2 Axes>"
            ]
          },
          "metadata": {
            "needs_background": "light"
          }
        }
      ]
    }
  ]
}